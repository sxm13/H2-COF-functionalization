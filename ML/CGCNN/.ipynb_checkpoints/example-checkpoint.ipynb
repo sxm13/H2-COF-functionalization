{
 "cells": [
  {
   "cell_type": "code",
   "execution_count": 13,
   "id": "22d5be77-f5eb-461f-bc41-56314eab9f06",
   "metadata": {
    "tags": []
   },
   "outputs": [],
   "source": [
    "import numpy as np"
   ]
  },
  {
   "cell_type": "code",
   "execution_count": 14,
   "id": "ce6b3f91-68c8-413a-ae62-066e7ccc1175",
   "metadata": {
    "tags": []
   },
   "outputs": [
    {
     "data": {
      "text/plain": [
       "array([4.38292671, 1.51321367, 1.03315728, 3.79382165, 1.68257526,\n",
       "       1.14641121, 3.2361761 , 1.71513153, 1.22653143, 2.98630758,\n",
       "       3.15917111, 2.3802975 , 1.2412441 , 3.05123381, 3.05038858])"
      ]
     },
     "execution_count": 14,
     "metadata": {},
     "output_type": "execute_result"
    }
   ],
   "source": [
    "np.load(\"./data/cif/npy_wt/05001N2.npy\")"
   ]
  },
  {
   "cell_type": "code",
   "execution_count": 1,
   "id": "29e8fd37-3c13-4c7f-bcb2-172dc4b1e374",
   "metadata": {
    "tags": []
   },
   "outputs": [],
   "source": [
    "from model.CGCNN_run import FineTune"
   ]
  },
  {
   "cell_type": "code",
   "execution_count": 2,
   "id": "e1efd982-c89f-4c8a-96ad-5e71ebc4e310",
   "metadata": {},
   "outputs": [
    {
     "name": "stdout",
     "output_type": "stream",
     "text": [
      "Running on: cuda\n",
      "The random seed is:  1129\n",
      "Train size: 483, Validation size: 161, Test size: 161\n"
     ]
    }
   ],
   "source": [
    "cgcnn_run = FineTune(root_dir=\"./data/cif/\",save_dir=\"./result/\",unit=\"wt\",tar=True,\n",
    "                     log_every_n_steps=5,eval_every_n_epochs=1,epoch=3,opti=\"SGD\",\n",
    "                     lr=0.001,momentum=0.9,weight_decay=1e-6,cif_list=\"COF_list.csv\",\n",
    "                     batch_size=64,n_conv=3,random_seed = 1129,pin_memory=False)"
   ]
  },
  {
   "cell_type": "code",
   "execution_count": 3,
   "id": "57dacfde-83ca-471f-a263-ffd5a5211193",
   "metadata": {
    "tags": []
   },
   "outputs": [
    {
     "name": "stdout",
     "output_type": "stream",
     "text": [
      "Use cuda for torch\n",
      "fc_out.weight new layer\n",
      "fc_out.bias new layer\n",
      "Epoch: 1, Batch: 0, Loss: 1.094766616821289\n",
      "Epoch: 1\n",
      "train: 1.094766616821289\n",
      "Epoch: 1, Batch: 5, Loss: 1.1729300022125244\n",
      "Epoch: 1\n",
      "train: 1.1729300022125244\n",
      "Epoch [1] Validate: [1/3],MAE 1.725 (1.725)\n",
      "Epoch [1] Validate: [2/3],MAE 1.711 (1.718)\n",
      "Epoch [1] Validate: [3/3],MAE 1.737 (1.722)\n",
      "MAE 1.722\n",
      "Epoch: 2, Batch: 0, Loss: 1.708608865737915\n",
      "Epoch: 2\n",
      "train: 1.708608865737915\n",
      "Epoch: 2, Batch: 5, Loss: 0.7295240759849548\n",
      "Epoch: 2\n",
      "train: 0.7295240759849548\n",
      "Epoch [2] Validate: [1/3],MAE 1.308 (1.308)\n",
      "Epoch [2] Validate: [2/3],MAE 1.551 (1.430)\n",
      "Epoch [2] Validate: [3/3],MAE 1.217 (1.386)\n",
      "MAE 1.386\n",
      "Epoch: 3, Batch: 0, Loss: 1.0325783491134644\n",
      "Epoch: 3\n",
      "train: 1.0325783491134644\n",
      "Epoch: 3, Batch: 5, Loss: 0.8185878396034241\n",
      "Epoch: 3\n",
      "train: 0.8185878396034241\n",
      "Epoch [3] Validate: [1/3],MAE 1.297 (1.297)\n",
      "Epoch [3] Validate: [2/3],MAE 1.493 (1.395)\n",
      "Epoch [3] Validate: [3/3],MAE 1.361 (1.388)\n",
      "MAE 1.388\n"
     ]
    }
   ],
   "source": [
    "cgcnn_run.train()"
   ]
  },
  {
   "cell_type": "code",
   "execution_count": 4,
   "id": "13736e57-73b7-48ed-8915-38eea5b7a078",
   "metadata": {
    "tags": []
   },
   "outputs": [
    {
     "name": "stdout",
     "output_type": "stream",
     "text": [
      "./result/checkpoints/model.pth\n",
      "Test: [0/3], MAE 1.496 (1.496)\n",
      "Test: [1/3], MAE 1.365 (1.430)\n",
      "Test: [2/3], MAE 1.809 (1.508)\n",
      "MAE 1.508\n"
     ]
    }
   ],
   "source": [
    "loss, metric = cgcnn_run.test()"
   ]
  },
  {
   "cell_type": "code",
   "execution_count": 5,
   "id": "e67b0481-423e-436f-98f8-6b33f77328be",
   "metadata": {},
   "outputs": [
    {
     "data": {
      "text/plain": [
       "'sucess predict'"
      ]
     },
     "execution_count": 5,
     "metadata": {},
     "output_type": "execute_result"
    }
   ],
   "source": [
    "cgcnn_run.predict()"
   ]
  },
  {
   "cell_type": "code",
   "execution_count": null,
   "id": "1554e48a-4163-4851-9cf2-132a23c23b37",
   "metadata": {},
   "outputs": [],
   "source": []
  }
 ],
 "metadata": {
  "kernelspec": {
   "display_name": "Python 3 (ipykernel)",
   "language": "python",
   "name": "python3"
  },
  "language_info": {
   "codemirror_mode": {
    "name": "ipython",
    "version": 3
   },
   "file_extension": ".py",
   "mimetype": "text/x-python",
   "name": "python",
   "nbconvert_exporter": "python",
   "pygments_lexer": "ipython3",
   "version": "3.10.9"
  }
 },
 "nbformat": 4,
 "nbformat_minor": 5
}
