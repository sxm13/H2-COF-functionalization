{
 "cells": [
  {
   "cell_type": "code",
   "execution_count": 1,
   "id": "22d5be77-f5eb-461f-bc41-56314eab9f06",
   "metadata": {
    "tags": []
   },
   "outputs": [],
   "source": [
    "import numpy as np"
   ]
  },
  {
   "cell_type": "code",
   "execution_count": 2,
   "id": "ce6b3f91-68c8-413a-ae62-066e7ccc1175",
   "metadata": {
    "tags": []
   },
   "outputs": [
    {
     "data": {
      "text/plain": [
       "array([3.57765465, 1.4229727 , 1.00283302])"
      ]
     },
     "execution_count": 2,
     "metadata": {},
     "output_type": "execute_result"
    }
   ],
   "source": [
    "np.load(\"./data/cif/npy_wt/05001N2.npy\")"
   ]
  },
  {
   "cell_type": "code",
   "execution_count": 5,
   "id": "646c8a2f-f9c0-4aa4-9aab-8d0fef77f350",
   "metadata": {},
   "outputs": [],
   "source": [
    "from data import all_pre"
   ]
  },
  {
   "cell_type": "code",
   "execution_count": 6,
   "id": "be4483a9-4328-4c37-901c-3384c84437f8",
   "metadata": {},
   "outputs": [],
   "source": [
    "all_pre(data_csv=\"uptake_w.csv\",unit=\"wt\")"
   ]
  },
  {
   "cell_type": "code",
   "execution_count": 7,
   "id": "d5d85318-0464-456a-8a02-ae6dc7fadb1f",
   "metadata": {},
   "outputs": [],
   "source": [
    "all_pre(data_csv=\"uptake_g.csv\",unit=\"gL\")"
   ]
  },
  {
   "cell_type": "code",
   "execution_count": 8,
   "id": "29e8fd37-3c13-4c7f-bcb2-172dc4b1e374",
   "metadata": {
    "tags": []
   },
   "outputs": [],
   "source": [
    "from model.CGCNN_run import FineTune"
   ]
  },
  {
   "cell_type": "code",
   "execution_count": 9,
   "id": "e1efd982-c89f-4c8a-96ad-5e71ebc4e310",
   "metadata": {},
   "outputs": [
    {
     "name": "stdout",
     "output_type": "stream",
     "text": [
      "Running on: cuda\n",
      "The random seed is:  1129\n",
      "Train size: 355, Validation size: 118, Test size: 118\n"
     ]
    },
    {
     "name": "stderr",
     "output_type": "stream",
     "text": [
      "/home/drakech3n/miniconda3/envs/GCN/lib/python3.12/site-packages/pymatgen/io/cif.py:721: UserWarning: No _symmetry_equiv_pos_as_xyz type key found. Spacegroup from _symmetry_space_group_name_H-M used.\n",
      "  warnings.warn(msg)\n",
      "/home/drakech3n/miniconda3/envs/GCN/lib/python3.12/site-packages/pymatgen/io/cif.py:1229: UserWarning: Issues encountered while parsing CIF: No _symmetry_equiv_pos_as_xyz type key found. Spacegroup from _symmetry_space_group_name_H-M used.\n",
      "  warnings.warn(\"Issues encountered while parsing CIF: \" + \"\\n\".join(self.warnings))\n",
      "/home/drakech3n/miniconda3/envs/GCN/lib/python3.12/site-packages/pymatgen/io/cif.py:1229: UserWarning: Issues encountered while parsing CIF: 1 fractional coordinates rounded to ideal values to avoid issues with finite precision.\n",
      "  warnings.warn(\"Issues encountered while parsing CIF: \" + \"\\n\".join(self.warnings))\n",
      "/home/drakech3n/miniconda3/envs/GCN/lib/python3.12/site-packages/pymatgen/io/cif.py:1229: UserWarning: Issues encountered while parsing CIF: 2 fractional coordinates rounded to ideal values to avoid issues with finite precision.\n",
      "  warnings.warn(\"Issues encountered while parsing CIF: \" + \"\\n\".join(self.warnings))\n",
      "/home/drakech3n/miniconda3/envs/GCN/lib/python3.12/site-packages/pymatgen/io/cif.py:1229: UserWarning: Issues encountered while parsing CIF: 3 fractional coordinates rounded to ideal values to avoid issues with finite precision.\n",
      "  warnings.warn(\"Issues encountered while parsing CIF: \" + \"\\n\".join(self.warnings))\n",
      "/home/drakech3n/miniconda3/envs/GCN/lib/python3.12/site-packages/pymatgen/io/cif.py:1229: UserWarning: Issues encountered while parsing CIF: 2 fractional coordinates rounded to ideal values to avoid issues with finite precision.\n",
      "No _symmetry_equiv_pos_as_xyz type key found. Spacegroup from _symmetry_space_group_name_H-M used.\n",
      "  warnings.warn(\"Issues encountered while parsing CIF: \" + \"\\n\".join(self.warnings))\n",
      "/home/drakech3n/miniconda3/envs/GCN/lib/python3.12/site-packages/pymatgen/io/cif.py:1229: UserWarning: Issues encountered while parsing CIF: 1 fractional coordinates rounded to ideal values to avoid issues with finite precision.\n",
      "No _symmetry_equiv_pos_as_xyz type key found. Spacegroup from _symmetry_space_group_name_H-M used.\n",
      "  warnings.warn(\"Issues encountered while parsing CIF: \" + \"\\n\".join(self.warnings))\n"
     ]
    },
    {
     "name": "stdout",
     "output_type": "stream",
     "text": [
      "21120N2\n"
     ]
    },
    {
     "ename": "TypeError",
     "evalue": "expected Tensor as element 309 in argument 0, but got numpy.ndarray",
     "output_type": "error",
     "traceback": [
      "\u001b[0;31m---------------------------------------------------------------------------\u001b[0m",
      "\u001b[0;31mTypeError\u001b[0m                                 Traceback (most recent call last)",
      "Cell \u001b[0;32mIn[9], line 1\u001b[0m\n\u001b[0;32m----> 1\u001b[0m cgcnn_run \u001b[38;5;241m=\u001b[39m \u001b[43mFineTune\u001b[49m\u001b[43m(\u001b[49m\u001b[43mroot_dir\u001b[49m\u001b[38;5;241;43m=\u001b[39;49m\u001b[38;5;124;43m\"\u001b[39;49m\u001b[38;5;124;43m./data/cif/\u001b[39;49m\u001b[38;5;124;43m\"\u001b[39;49m\u001b[43m,\u001b[49m\u001b[43msave_dir\u001b[49m\u001b[38;5;241;43m=\u001b[39;49m\u001b[38;5;124;43m\"\u001b[39;49m\u001b[38;5;124;43m./result/\u001b[39;49m\u001b[38;5;124;43m\"\u001b[39;49m\u001b[43m,\u001b[49m\u001b[43munit\u001b[49m\u001b[38;5;241;43m=\u001b[39;49m\u001b[38;5;124;43m\"\u001b[39;49m\u001b[38;5;124;43mwt\u001b[39;49m\u001b[38;5;124;43m\"\u001b[39;49m\u001b[43m,\u001b[49m\u001b[43mtar\u001b[49m\u001b[38;5;241;43m=\u001b[39;49m\u001b[38;5;28;43;01mTrue\u001b[39;49;00m\u001b[43m,\u001b[49m\n\u001b[1;32m      2\u001b[0m \u001b[43m                     \u001b[49m\u001b[43mlog_every_n_steps\u001b[49m\u001b[38;5;241;43m=\u001b[39;49m\u001b[38;5;241;43m5\u001b[39;49m\u001b[43m,\u001b[49m\u001b[43meval_every_n_epochs\u001b[49m\u001b[38;5;241;43m=\u001b[39;49m\u001b[38;5;241;43m1\u001b[39;49m\u001b[43m,\u001b[49m\u001b[43mepoch\u001b[49m\u001b[38;5;241;43m=\u001b[39;49m\u001b[38;5;241;43m3\u001b[39;49m\u001b[43m,\u001b[49m\u001b[43mopti\u001b[49m\u001b[38;5;241;43m=\u001b[39;49m\u001b[38;5;124;43m\"\u001b[39;49m\u001b[38;5;124;43mSGD\u001b[39;49m\u001b[38;5;124;43m\"\u001b[39;49m\u001b[43m,\u001b[49m\n\u001b[1;32m      3\u001b[0m \u001b[43m                     \u001b[49m\u001b[43mlr\u001b[49m\u001b[38;5;241;43m=\u001b[39;49m\u001b[38;5;241;43m0.001\u001b[39;49m\u001b[43m,\u001b[49m\u001b[43mmomentum\u001b[49m\u001b[38;5;241;43m=\u001b[39;49m\u001b[38;5;241;43m0.9\u001b[39;49m\u001b[43m,\u001b[49m\u001b[43mweight_decay\u001b[49m\u001b[38;5;241;43m=\u001b[39;49m\u001b[38;5;241;43m1e-6\u001b[39;49m\u001b[43m,\u001b[49m\u001b[43mcif_list\u001b[49m\u001b[38;5;241;43m=\u001b[39;49m\u001b[38;5;124;43m\"\u001b[39;49m\u001b[38;5;124;43mCOF_list.csv\u001b[39;49m\u001b[38;5;124;43m\"\u001b[39;49m\u001b[43m,\u001b[49m\n\u001b[1;32m      4\u001b[0m \u001b[43m                     \u001b[49m\u001b[43mbatch_size\u001b[49m\u001b[38;5;241;43m=\u001b[39;49m\u001b[38;5;241;43m64\u001b[39;49m\u001b[43m,\u001b[49m\u001b[43mn_conv\u001b[49m\u001b[38;5;241;43m=\u001b[39;49m\u001b[38;5;241;43m3\u001b[39;49m\u001b[43m,\u001b[49m\u001b[43mrandom_seed\u001b[49m\u001b[43m \u001b[49m\u001b[38;5;241;43m=\u001b[39;49m\u001b[43m \u001b[49m\u001b[38;5;241;43m1129\u001b[39;49m\u001b[43m,\u001b[49m\u001b[43mpin_memory\u001b[49m\u001b[38;5;241;43m=\u001b[39;49m\u001b[38;5;28;43;01mFalse\u001b[39;49;00m\u001b[43m)\u001b[49m\n",
      "File \u001b[0;32m/mnt/d/PNU/000_Research_Project/000_TIC_Project/COFs_H2/000AAA-organized-H2-COF-data/H2-COF-functionalization/ML/CGCNN-ori/model/CGCNN_run.py:40\u001b[0m, in \u001b[0;36mFineTune.__init__\u001b[0;34m(self, root_dir, save_dir, unit, tar, log_every_n_steps, eval_every_n_epochs, epoch, opti, lr, momentum, weight_decay, cif_list, batch_size, n_conv, random_seed, pin_memory)\u001b[0m\n\u001b[1;32m     34\u001b[0m \u001b[38;5;28mself\u001b[39m\u001b[38;5;241m.\u001b[39mtrain_loader, \u001b[38;5;28mself\u001b[39m\u001b[38;5;241m.\u001b[39mvalid_loader, \u001b[38;5;28mself\u001b[39m\u001b[38;5;241m.\u001b[39mtest_loader \u001b[38;5;241m=\u001b[39m get_train_val_test_loader(dataset \u001b[38;5;241m=\u001b[39m \u001b[38;5;28mself\u001b[39m\u001b[38;5;241m.\u001b[39mdataset,\n\u001b[1;32m     35\u001b[0m                                                                                     random_seed \u001b[38;5;241m=\u001b[39m \u001b[38;5;28mself\u001b[39m\u001b[38;5;241m.\u001b[39mrandom_seed,\n\u001b[1;32m     36\u001b[0m                                                                                     collate_fn \u001b[38;5;241m=\u001b[39m collate_fn,\n\u001b[1;32m     37\u001b[0m                                                                                     pin_memory \u001b[38;5;241m=\u001b[39m \u001b[38;5;28mself\u001b[39m\u001b[38;5;241m.\u001b[39mpin_memory,\n\u001b[1;32m     38\u001b[0m                                                                                     batch_size \u001b[38;5;241m=\u001b[39m \u001b[38;5;28mself\u001b[39m\u001b[38;5;241m.\u001b[39mbatch_size)\n\u001b[1;32m     39\u001b[0m sample_data_list \u001b[38;5;241m=\u001b[39m [\u001b[38;5;28mself\u001b[39m\u001b[38;5;241m.\u001b[39mdataset[i] \u001b[38;5;28;01mfor\u001b[39;00m i \u001b[38;5;129;01min\u001b[39;00m \u001b[38;5;28mrange\u001b[39m(\u001b[38;5;28mlen\u001b[39m(\u001b[38;5;28mself\u001b[39m\u001b[38;5;241m.\u001b[39mdataset))]\n\u001b[0;32m---> 40\u001b[0m _, sample_target, _ \u001b[38;5;241m=\u001b[39m \u001b[43mcollate_pool\u001b[49m\u001b[43m(\u001b[49m\u001b[43msample_data_list\u001b[49m\u001b[43m)\u001b[49m\n\u001b[1;32m     41\u001b[0m \u001b[38;5;28mself\u001b[39m\u001b[38;5;241m.\u001b[39mnormalizer \u001b[38;5;241m=\u001b[39m Normalizer(sample_target)\n\u001b[1;32m     42\u001b[0m \u001b[38;5;28;01mwith\u001b[39;00m \u001b[38;5;28mopen\u001b[39m(save_dir \u001b[38;5;241m+\u001b[39m \u001b[38;5;124m'\u001b[39m\u001b[38;5;124mnormalizer.pkl\u001b[39m\u001b[38;5;124m'\u001b[39m, \u001b[38;5;124m'\u001b[39m\u001b[38;5;124mwb\u001b[39m\u001b[38;5;124m'\u001b[39m) \u001b[38;5;28;01mas\u001b[39;00m f:\n",
      "File \u001b[0;32m/mnt/d/PNU/000_Research_Project/000_TIC_Project/COFs_H2/000AAA-organized-H2-COF-data/H2-COF-functionalization/ML/CGCNN-ori/model/CGCNN_data.py:34\u001b[0m, in \u001b[0;36mcollate_pool\u001b[0;34m(dataset_list)\u001b[0m\n\u001b[1;32m     31\u001b[0m     batch_cif_ids\u001b[38;5;241m.\u001b[39mappend(cif_id)\n\u001b[1;32m     32\u001b[0m     base_idx \u001b[38;5;241m+\u001b[39m\u001b[38;5;241m=\u001b[39m n_i\n\u001b[1;32m     33\u001b[0m \u001b[38;5;28;01mreturn\u001b[39;00m (torch\u001b[38;5;241m.\u001b[39mcat(batch_atom_fea, dim\u001b[38;5;241m=\u001b[39m\u001b[38;5;241m0\u001b[39m),\n\u001b[0;32m---> 34\u001b[0m         \u001b[43mtorch\u001b[49m\u001b[38;5;241;43m.\u001b[39;49m\u001b[43mcat\u001b[49m\u001b[43m(\u001b[49m\u001b[43mbatch_nbr_fea\u001b[49m\u001b[43m,\u001b[49m\u001b[43m \u001b[49m\u001b[43mdim\u001b[49m\u001b[38;5;241;43m=\u001b[39;49m\u001b[38;5;241;43m0\u001b[39;49m\u001b[43m)\u001b[49m,\n\u001b[1;32m     35\u001b[0m         torch\u001b[38;5;241m.\u001b[39mcat(batch_nbr_fea_idx, dim\u001b[38;5;241m=\u001b[39m\u001b[38;5;241m0\u001b[39m),\n\u001b[1;32m     36\u001b[0m         crystal_atom_idx), \\\n\u001b[1;32m     37\u001b[0m         torch\u001b[38;5;241m.\u001b[39mstack(batch_target, dim\u001b[38;5;241m=\u001b[39m\u001b[38;5;241m0\u001b[39m),\\\n\u001b[1;32m     38\u001b[0m         batch_cif_ids\n",
      "\u001b[0;31mTypeError\u001b[0m: expected Tensor as element 309 in argument 0, but got numpy.ndarray"
     ]
    }
   ],
   "source": [
    "cgcnn_run = FineTune(root_dir=\"./data/cif/\",save_dir=\"./result/\",unit=\"wt\",tar=True,\n",
    "                     log_every_n_steps=5,eval_every_n_epochs=1,epoch=3,opti=\"SGD\",\n",
    "                     lr=0.001,momentum=0.9,weight_decay=1e-6,cif_list=\"COF_list.csv\",\n",
    "                     batch_size=64,n_conv=3,random_seed = 1129,pin_memory=False)"
   ]
  },
  {
   "cell_type": "code",
   "execution_count": 3,
   "id": "57dacfde-83ca-471f-a263-ffd5a5211193",
   "metadata": {
    "tags": []
   },
   "outputs": [
    {
     "name": "stdout",
     "output_type": "stream",
     "text": [
      "Use cuda for torch\n",
      "fc_out.weight new layer\n",
      "fc_out.bias new layer\n",
      "Epoch: 1, Batch: 0, Loss: 1.094766616821289\n",
      "Epoch: 1\n",
      "train: 1.094766616821289\n",
      "Epoch: 1, Batch: 5, Loss: 1.1729300022125244\n",
      "Epoch: 1\n",
      "train: 1.1729300022125244\n",
      "Epoch [1] Validate: [1/3],MAE 1.725 (1.725)\n",
      "Epoch [1] Validate: [2/3],MAE 1.711 (1.718)\n",
      "Epoch [1] Validate: [3/3],MAE 1.737 (1.722)\n",
      "MAE 1.722\n",
      "Epoch: 2, Batch: 0, Loss: 1.708608865737915\n",
      "Epoch: 2\n",
      "train: 1.708608865737915\n",
      "Epoch: 2, Batch: 5, Loss: 0.7295240759849548\n",
      "Epoch: 2\n",
      "train: 0.7295240759849548\n",
      "Epoch [2] Validate: [1/3],MAE 1.308 (1.308)\n",
      "Epoch [2] Validate: [2/3],MAE 1.551 (1.430)\n",
      "Epoch [2] Validate: [3/3],MAE 1.217 (1.386)\n",
      "MAE 1.386\n",
      "Epoch: 3, Batch: 0, Loss: 1.0325783491134644\n",
      "Epoch: 3\n",
      "train: 1.0325783491134644\n",
      "Epoch: 3, Batch: 5, Loss: 0.8185878396034241\n",
      "Epoch: 3\n",
      "train: 0.8185878396034241\n",
      "Epoch [3] Validate: [1/3],MAE 1.297 (1.297)\n",
      "Epoch [3] Validate: [2/3],MAE 1.493 (1.395)\n",
      "Epoch [3] Validate: [3/3],MAE 1.361 (1.388)\n",
      "MAE 1.388\n"
     ]
    }
   ],
   "source": [
    "cgcnn_run.train()"
   ]
  },
  {
   "cell_type": "code",
   "execution_count": 4,
   "id": "13736e57-73b7-48ed-8915-38eea5b7a078",
   "metadata": {
    "tags": []
   },
   "outputs": [
    {
     "name": "stdout",
     "output_type": "stream",
     "text": [
      "./result/checkpoints/model.pth\n",
      "Test: [0/3], MAE 1.496 (1.496)\n",
      "Test: [1/3], MAE 1.365 (1.430)\n",
      "Test: [2/3], MAE 1.809 (1.508)\n",
      "MAE 1.508\n"
     ]
    }
   ],
   "source": [
    "loss, metric = cgcnn_run.test()"
   ]
  },
  {
   "cell_type": "code",
   "execution_count": 5,
   "id": "e67b0481-423e-436f-98f8-6b33f77328be",
   "metadata": {},
   "outputs": [
    {
     "data": {
      "text/plain": [
       "'sucess predict'"
      ]
     },
     "execution_count": 5,
     "metadata": {},
     "output_type": "execute_result"
    }
   ],
   "source": [
    "cgcnn_run.predict()"
   ]
  },
  {
   "cell_type": "code",
   "execution_count": null,
   "id": "1554e48a-4163-4851-9cf2-132a23c23b37",
   "metadata": {},
   "outputs": [],
   "source": []
  }
 ],
 "metadata": {
  "kernelspec": {
   "display_name": "Python 3 (ipykernel)",
   "language": "python",
   "name": "python3"
  },
  "language_info": {
   "codemirror_mode": {
    "name": "ipython",
    "version": 3
   },
   "file_extension": ".py",
   "mimetype": "text/x-python",
   "name": "python",
   "nbconvert_exporter": "python",
   "pygments_lexer": "ipython3",
   "version": "3.12.2"
  }
 },
 "nbformat": 4,
 "nbformat_minor": 5
}
